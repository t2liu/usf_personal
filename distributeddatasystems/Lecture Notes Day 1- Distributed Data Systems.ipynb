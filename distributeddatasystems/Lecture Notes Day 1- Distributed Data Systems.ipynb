{
 "cells": [
  {
   "cell_type": "code",
   "execution_count": 1,
   "metadata": {},
   "outputs": [
    {
     "data": {
      "text/html": [
       "\n",
       "        <div>\n",
       "            <p><b>SparkContext</b></p>\n",
       "\n",
       "            <p><a href=\"http://192.168.0.12:4040\">Spark UI</a></p>\n",
       "\n",
       "            <dl>\n",
       "              <dt>Version</dt>\n",
       "                <dd><code>v2.2.0</code></dd>\n",
       "              <dt>Master</dt>\n",
       "                <dd><code>local[*]</code></dd>\n",
       "              <dt>AppName</dt>\n",
       "                <dd><code>PySparkShell</code></dd>\n",
       "            </dl>\n",
       "        </div>\n",
       "        "
      ],
      "text/plain": [
       "<SparkContext master=local[*] appName=PySparkShell>"
      ]
     },
     "execution_count": 1,
     "metadata": {},
     "output_type": "execute_result"
    }
   ],
   "source": [
    "sc"
   ]
  },
  {
   "cell_type": "markdown",
   "metadata": {},
   "source": [
    "## Review:"
   ]
  },
  {
   "cell_type": "markdown",
   "metadata": {},
   "source": [
    "### Exampe 0:\n",
    "From “USF_Mission.txt”,\n",
    "1. Split lines into words separated by spaces.\n",
    "2. Print the five most frequent words and their occurrence ordered by occurrence."
   ]
  },
  {
   "cell_type": "code",
   "execution_count": 2,
   "metadata": {},
   "outputs": [
    {
     "name": "stdout",
     "output_type": "stream",
     "text": [
      "/Users/ting2liu/git/usf_personal/usf_personal\r\n"
     ]
    }
   ],
   "source": [
    "!pwd"
   ]
  },
  {
   "cell_type": "code",
   "execution_count": 5,
   "metadata": {
    "collapsed": true
   },
   "outputs": [],
   "source": [
    "text = sc.textFile(\"../../../msan697/2018-msan697-example/Data/USF_Mission.txt\")"
   ]
  },
  {
   "cell_type": "code",
   "execution_count": 6,
   "metadata": {},
   "outputs": [
    {
     "data": {
      "text/plain": [
       "[u'At USF, excellence is the standard for teaching, scholarship, creative expression, and service. Individuals from all faiths or with no religious affiliations contribute to the diversity of perspectives and experiences that are essential to our truly global education.',\n",
       " u'',\n",
       " u'*Care of the Whole Person',\n",
       " u'Cura personalis \\u2014 care of the whole person \\u2014 is a Jesuit tradition that inspires our distinct style of education. One in which intellect is only one part of an individual\\u2019s full development.',\n",
       " u'\\u201cJesuit education offers a distinctive pedagogical framework for educating the whole person (cura personalis) in which this connection between interior wisdom and exterior knowledge is made explicit.\"',\n",
       " u'',\n",
       " u'',\n",
       " u'*Women and Men for Others',\n",
       " u'Fr. Pedro Arrupe, S.J., in his speech to the Tenth International Congress of Jesuit Alumni of Europe, called for action. He challenged Jesuits to reflect on what they believe in and how they act. And, in doing so, inspired generations of men and women to be proactive in their service to others.',\n",
       " u'\\u201cAnyone who lives only for his or her own interests not only provides nothing for others. He or she does worse. They tend to accumulate in exclusive fashion more and more knowledge, more and more power, more and more wealth; thus denying, inevitably to those weaker than themselves their proper share of the God-given means for human development.\"',\n",
       " u'USF students are inspired by this Jesuit tradition to confront the things that degrade human dignity and to expose the voices of the underserved, disadvantaged, and poor.',\n",
       " u'',\n",
       " u'*Core Values',\n",
       " u'The University\\u2019s core values include a belief in and a commitment to advancing:',\n",
       " u'-the Jesuit Catholic tradition that views faith and reason as complementary resources in the search for truth and authentic human development, and that welcomes persons of all faiths or no religious beliefs as fully contributing partners to the University;',\n",
       " u'-the freedom and the responsibility to pursue truth and follow evidence to its conclusion;',\n",
       " u'-learning as a humanizing, social activity rather than a competitive exercise;',\n",
       " u'-a common good that transcends the interests of particular individuals or groups; and reasoned discourse rather than coercion as the norm for decision making;',\n",
       " u'-diversity of perspectives, experiences and traditions as essential components of a quality education in our global context;',\n",
       " u'-excellence as the standard for teaching, scholarship, creative expression and service to the University community;',\n",
       " u'-social responsibility in fulfilling the University\\u2019s mission to create, communicate and apply knowledge to a world shared by all people and held in trust for future generations;',\n",
       " u'-the moral dimension of every significant human choice: taking seriously how and who we choose to be in the world;',\n",
       " u'-the full, integral development of each person and all persons, with the belief that no individual or group may rightfully prosper at the expense of others;',\n",
       " u'-a culture of service that respects and promotes the dignity of every person.']"
      ]
     },
     "execution_count": 6,
     "metadata": {},
     "output_type": "execute_result"
    }
   ],
   "source": [
    "text.collect()"
   ]
  },
  {
   "cell_type": "code",
   "execution_count": null,
   "metadata": {
    "collapsed": true
   },
   "outputs": [],
   "source": []
  }
 ],
 "metadata": {
  "kernelspec": {
   "display_name": "Python 2",
   "language": "python",
   "name": "python2"
  },
  "language_info": {
   "codemirror_mode": {
    "name": "ipython",
    "version": 2
   },
   "file_extension": ".py",
   "mimetype": "text/x-python",
   "name": "python",
   "nbconvert_exporter": "python",
   "pygments_lexer": "ipython2",
   "version": "2.7.13"
  }
 },
 "nbformat": 4,
 "nbformat_minor": 2
}
